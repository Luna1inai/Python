{
 "cells": [
  {
   "cell_type": "code",
   "execution_count": null,
   "metadata": {},
   "outputs": [],
   "source": [
    "import jieba\n",
    "from nltk import FreqDist\n",
    "from wordcloud import WordCloud\n",
    "from matplotlib import pyplot as plt\n",
    "import pandas as pd\n",
    "df=pd.read_excel('实习僧4.xls')\n",
    "company_list=df[\"公司\"].tolist()\n",
    "key_list=df[\"关键词\"].tolist()\n",
    "city_list=df[\"城市\"].tolist()\n",
    "#print(len(position_list))\n",
    "def write_list(list):\n",
    "    wordcut = []\n",
    "    for i in list:\n",
    "        try:\n",
    "            wordcuts = jieba.lcut(i)\n",
    "            wordcut += wordcuts\n",
    "            freq = FreqDist(wordcut)\n",
    "            freq1={}\n",
    "            for k in freq:\n",
    "                if len(k)>=2 and freq[k]>1:  #删掉长度为1的词，和词频为1的词\n",
    "                    freq1[k]=freq[k]\n",
    "        except:\n",
    "            print(i)\n",
    "            pass\n",
    "    #print(freq1)\n",
    "#     del freq1[\"实习生\"]\n",
    "#     del freq1[\"届校\"]\n",
    "    wordcloud = WordCloud(font_path=\"C:/Windows/Fonts/STZHONGS.TTF\",\n",
    "                              background_color=\"white\",\n",
    "                              width=1920, height=1080)\n",
    "    wordcloud.generate_from_frequencies(freq1)\n",
    "    #wordcloud.to_file('%s.png'%(list[0]))\n",
    "    image_produce = wordcloud.to_image()\n",
    "    image_produce.show()\n",
    "#write_list(company_list)\n",
    "# write_list(position_list)\n",
    "#write_list(key_list)\n",
    "write_list(city_list)"
   ]
  }
 ],
 "metadata": {
  "kernelspec": {
   "display_name": "Python 3",
   "language": "python",
   "name": "python3"
  },
  "language_info": {
   "codemirror_mode": {
    "name": "ipython",
    "version": 3
   },
   "file_extension": ".py",
   "mimetype": "text/x-python",
   "name": "python",
   "nbconvert_exporter": "python",
   "pygments_lexer": "ipython3",
   "version": "3.7.6"
  }
 },
 "nbformat": 4,
 "nbformat_minor": 4
}
