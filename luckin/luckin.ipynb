{
 "cells": [
  {
   "cell_type": "code",
   "execution_count": null,
   "metadata": {},
   "outputs": [],
   "source": [
    "import jieba\n",
    "from nltk import FreqDist\n",
    "from wordcloud import WordCloud\n",
    "from matplotlib import pyplot as plt\n",
    "import pandas as pd\n",
    "df=pd.read_excel('瑞幸咖啡.xls')\n",
    "video_list=df[\"视频名称\"].tolist()\n",
    "def write_list(list):\n",
    "    wordcut = []\n",
    "    for i in list:\n",
    "        try:\n",
    "            wordcuts = jieba.lcut(i)\n",
    "            wordcut += wordcuts\n",
    "            freq = FreqDist(wordcut)\n",
    "            freq1={}\n",
    "            for k in freq:\n",
    "                if len(k)>=2 and freq[k]>1:  #删掉长度为1的词，和词频为1的词\n",
    "                    freq1[k]=freq[k]\n",
    "        except:\n",
    "            print(i)\n",
    "            pass\n",
    "    #print(freq1)\n",
    "    del freq1[\"瑞幸\"]\n",
    "    del freq1[\"咖啡\"]\n",
    "    wordcloud = WordCloud(font_path=\"C:/Windows/Fonts/STZHONGS.TTF\",\n",
    "                              background_color=\"white\",\n",
    "                              width=1920, height=1080)\n",
    "    wordcloud.generate_from_frequencies(freq1)\n",
    "    #wordcloud.to_file('%s.png'%(list[0]))\n",
    "    image_produce = wordcloud.to_image()\n",
    "    image_produce.show()\n",
    "\n",
    "write_list(video_list)"
   ]
  }
 ],
 "metadata": {
  "kernelspec": {
   "display_name": "Python 3",
   "language": "python",
   "name": "python3"
  },
  "language_info": {
   "codemirror_mode": {
    "name": "ipython",
    "version": 3
   },
   "file_extension": ".py",
   "mimetype": "text/x-python",
   "name": "python",
   "nbconvert_exporter": "python",
   "pygments_lexer": "ipython3",
   "version": "3.7.6"
  }
 },
 "nbformat": 4,
 "nbformat_minor": 4
}
